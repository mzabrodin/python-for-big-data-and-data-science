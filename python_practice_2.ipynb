{
  "nbformat": 4,
  "nbformat_minor": 0,
  "metadata": {
    "colab": {
      "provenance": []
    },
    "kernelspec": {
      "name": "python3",
      "display_name": "Python 3"
    },
    "language_info": {
      "name": "python"
    }
  },
  "cells": [
    {
      "cell_type": "markdown",
      "source": [
        "# I. Змінні та памʼять."
      ],
      "metadata": {
        "id": "p9wwt0LZzNvn"
      }
    },
    {
      "cell_type": "markdown",
      "source": [
        "1. Створити змінні, що посилаються на два цілих числа, що однакові за значенням, де значення належить проміжку від -5 до 256. Перевірте, чи будуть ці змінні рівні тільки за значенням або ж ще будуть посилатися на один і той самий обʼєкт в памʼяті? Наведіть код та дайте текстову відповідь нижче."
      ],
      "metadata": {
        "id": "HTJrrm95xSV9"
      }
    },
    {
      "cell_type": "code",
      "execution_count": 1,
      "metadata": {
        "id": "TATni2vzayjG",
        "colab": {
          "base_uri": "https://localhost:8080/"
        },
        "outputId": "2d9b4c25-105d-4b65-a6ce-0e654b2df870"
      },
      "outputs": [
        {
          "output_type": "stream",
          "name": "stdout",
          "text": [
            "True\n",
            "True\n"
          ]
        }
      ],
      "source": [
        "x = 64\n",
        "y = 64\n",
        "id_x = id(x)\n",
        "id_y = id(y)\n",
        "print(x == y)\n",
        "print(id_x == id_y)\n"
      ]
    },
    {
      "cell_type": "markdown",
      "source": [
        "\n",
        "*   У Python числа у діапазоні [-5, 256] кешуються одразу при старті програми. Саме тому x та y посилаються на однаковий об'єкт у пам'яті"
      ],
      "metadata": {
        "id": "zfRG_o3WbRdg"
      }
    },
    {
      "cell_type": "markdown",
      "source": [
        "2. За допомогою якої функції можна перевірити належність змінної до вказаного типу даних (напр. чи змінна True посилається на значення булевого та цілочисленого типу)?"
      ],
      "metadata": {
        "id": "ISORzt6M3vAt"
      }
    },
    {
      "cell_type": "code",
      "source": [
        "variable = True\n",
        "print(isinstance(variable, int))\n",
        "print(isinstance(variable, bool))\n"
      ],
      "metadata": {
        "id": "9vL9CFaMbfyo",
        "colab": {
          "base_uri": "https://localhost:8080/"
        },
        "outputId": "12909663-822d-4c1c-d7f1-1a26f088808d"
      },
      "execution_count": 2,
      "outputs": [
        {
          "output_type": "stream",
          "name": "stdout",
          "text": [
            "True\n",
            "True\n"
          ]
        }
      ]
    },
    {
      "cell_type": "markdown",
      "source": [
        "# II. Цілі числа та числа з рухомою комою"
      ],
      "metadata": {
        "id": "tRxugKAxwYLw"
      }
    },
    {
      "cell_type": "markdown",
      "source": [
        "3. Створити дві змінні, що посилаються на будь-які ціле число та число з рухомою комою та продемонструвати такі арифметичні операції: додавання, віднімання, ділення, множення, ділення без залишку, ділення по модулю, приведення до ступеню. Всі результати операцій вивести на екран."
      ],
      "metadata": {
        "id": "NLHkgd5Gybc8"
      }
    },
    {
      "cell_type": "code",
      "source": [
        "x: int = 2\n",
        "y: float = 6.66\n",
        "\n",
        "print(f\"{x} + {y} = {x + y}\")\n",
        "print(f\"{x} - {y} = {x - y}\")\n",
        "print(f\"{x} / {y} = {x / y}\")\n",
        "print(f\"{x} * {y} = {x * y}\")\n",
        "print(f\"{x} // {y} = {x // y}\")\n",
        "print(f\"{x} % {y} = {x % y}\")\n",
        "print(f\"{x} ** {y} = {x ** y}\")\n"
      ],
      "metadata": {
        "id": "nb8u_3pjb2cA",
        "colab": {
          "base_uri": "https://localhost:8080/"
        },
        "outputId": "3b80126c-05ff-41e0-9eb7-105efd8c6391"
      },
      "execution_count": 3,
      "outputs": [
        {
          "output_type": "stream",
          "name": "stdout",
          "text": [
            "2 + 6.66 = 8.66\n",
            "2 - 6.66 = -4.66\n",
            "2 / 6.66 = 0.3003003003003003\n",
            "2 * 6.66 = 13.32\n",
            "2 // 6.66 = 0.0\n",
            "2 % 6.66 = 2.0\n",
            "2 ** 6.66 = 101.12528791851229\n"
          ]
        }
      ]
    },
    {
      "cell_type": "markdown",
      "source": [
        "4. Використовуючи змінні з вправи 3, продемонструйте механізм явного перетворення типів, де числа з рухомою комою перетворюються на цілі числа. Також визначте змінну, що посилається на значення булевого типу і спробуйте явно привести її до цілого числа."
      ],
      "metadata": {
        "id": "1kBClKgPzZnC"
      }
    },
    {
      "cell_type": "code",
      "source": [
        "new_x = int(x)\n",
        "new_y = int(y)\n",
        "\n",
        "t = True\n",
        "f = False\n",
        "new_t = int(t)\n",
        "new_f = int(f)\n",
        "\n",
        "print(f\"Old\\t=>\\tNew\\tisinstance(var, int)\")\n",
        "print(\"=-\" * 22)\n",
        "print(f\"{x}\\t=>\\t{new_x}\\t{isinstance(new_x, int)}\\t\")\n",
        "print(f\"{y}\\t=>\\t{new_y}\\t{isinstance(new_y, int)}\\t\")\n",
        "print(f\"{t}\\t=>\\t{new_t}\\t{isinstance(new_t, int)}\\t\")\n",
        "print(f\"{f}\\t=>\\t{new_f}\\t{isinstance(new_f, int)}\\t\")\n"
      ],
      "metadata": {
        "id": "TbqJbkeUcKsD",
        "colab": {
          "base_uri": "https://localhost:8080/"
        },
        "outputId": "590feaf5-cf61-43d2-da5a-edb774631466"
      },
      "execution_count": 4,
      "outputs": [
        {
          "output_type": "stream",
          "name": "stdout",
          "text": [
            "Old\t=>\tNew\tisinstance(var, int)\n",
            "=-=-=-=-=-=-=-=-=-=-=-=-=-=-=-=-=-=-=-=-=-=-\n",
            "2\t=>\t2\tTrue\t\n",
            "6.66\t=>\t6\tTrue\t\n",
            "True\t=>\t1\tTrue\t\n",
            "False\t=>\t0\tTrue\t\n"
          ]
        }
      ]
    },
    {
      "cell_type": "markdown",
      "source": [
        "# IІІ. Рядки (String)."
      ],
      "metadata": {
        "id": "EVJ7AflwxrZi"
      }
    },
    {
      "cell_type": "markdown",
      "source": [
        "5. Створити пустий рядок двома різними способами."
      ],
      "metadata": {
        "id": "_s5ECzz9zE61"
      }
    },
    {
      "cell_type": "code",
      "source": [
        "string1 = \"\"\n",
        "string2 = str()\n"
      ],
      "metadata": {
        "id": "fkZJHu9Scvc-"
      },
      "execution_count": 5,
      "outputs": []
    },
    {
      "cell_type": "markdown",
      "source": [
        "6. Створити рядок з апострофом. Зробити його сирим. Вивести обидва рядка на екран."
      ],
      "metadata": {
        "id": "4Bdn9J3MzLf_"
      }
    },
    {
      "cell_type": "code",
      "source": [
        "string = \"без'язикий\"\n",
        "r_string = r\"без'язикий\"\n",
        "\n",
        "print(string)\n",
        "print(r_string)\n"
      ],
      "metadata": {
        "id": "ivji_hsmc0GH",
        "colab": {
          "base_uri": "https://localhost:8080/"
        },
        "outputId": "ab9035cf-57e3-4b7a-9b6e-8476a0412afe"
      },
      "execution_count": 6,
      "outputs": [
        {
          "output_type": "stream",
          "name": "stdout",
          "text": [
            "без'язикий\n",
            "без'язикий\n"
          ]
        }
      ]
    },
    {
      "cell_type": "markdown",
      "source": [
        "7. Створити змінну, що буде посилатися на Ваше прізвище латинкою. Створити форматований рядок, який буде мати вигляд \"My surname is ______\", де на місці нижніх підкреслень буде Ваше прізвище зі змінної."
      ],
      "metadata": {
        "id": "bg_d8wM4z8dS"
      }
    },
    {
      "cell_type": "code",
      "source": [
        "surname = \"Zabrodin\"\n",
        "format_string = f\"My surname is {surname}\"\n",
        "\n",
        "print(format_string)\n"
      ],
      "metadata": {
        "id": "kuxFgpWndACq",
        "colab": {
          "base_uri": "https://localhost:8080/"
        },
        "outputId": "7e7e6d54-ac4e-4a0d-b9f4-b84c8c9da56d"
      },
      "execution_count": 7,
      "outputs": [
        {
          "output_type": "stream",
          "name": "stdout",
          "text": [
            "My surname is Zabrodin\n"
          ]
        }
      ]
    },
    {
      "cell_type": "markdown",
      "source": [
        "8. Маючи рядок \"My dog is crazy.\" перетворити його на список [\"my\", \"dog\", \"is\", \"crazy\"]"
      ],
      "metadata": {
        "id": "1Nc6RqvQ0hxU"
      }
    },
    {
      "cell_type": "code",
      "source": [
        "string = \"My dog is crazy\"\n",
        "string_list = string.lower().split()\n",
        "\n",
        "print(string_list)\n"
      ],
      "metadata": {
        "id": "w1Ya4RqedUhw",
        "colab": {
          "base_uri": "https://localhost:8080/"
        },
        "outputId": "0093fe76-1f59-45c0-cfae-93476dad71cf"
      },
      "execution_count": 8,
      "outputs": [
        {
          "output_type": "stream",
          "name": "stdout",
          "text": [
            "['my', 'dog', 'is', 'crazy']\n"
          ]
        }
      ]
    },
    {
      "cell_type": "markdown",
      "source": [
        "# IV. Робота зі списками."
      ],
      "metadata": {
        "id": "GYVqN9uP1D4n"
      }
    },
    {
      "cell_type": "markdown",
      "source": [
        "9. Створити список двома різними за синтаксисом способами. За допомогою вбудованої функції обчисліть довжину одного з них."
      ],
      "metadata": {
        "id": "7-DeDunw2sO-"
      }
    },
    {
      "cell_type": "code",
      "source": [
        "list1 = [1, 2, 3]\n",
        "list2 = list((1, 2, 3))\n",
        "\n",
        "print(f\"list1: {list1}\")\n",
        "print(f\"list2: {list2} with length: {len(list2)}\")\n"
      ],
      "metadata": {
        "id": "zxg06Uuxdyoh",
        "colab": {
          "base_uri": "https://localhost:8080/"
        },
        "outputId": "13168809-59d5-4b8b-83f5-53bd79c64ff6"
      },
      "execution_count": 9,
      "outputs": [
        {
          "output_type": "stream",
          "name": "stdout",
          "text": [
            "list1: [1, 2, 3]\n",
            "list2: [1, 2, 3] with length: 3\n"
          ]
        }
      ]
    },
    {
      "cell_type": "markdown",
      "source": [
        "10. Створіть два списка та за допомогою спеціального методу додайте другий з них в якості останнього елемента першого."
      ],
      "metadata": {
        "id": "8vmGUTjL22gI"
      }
    },
    {
      "cell_type": "code",
      "source": [
        "list1 = [\"red\", \"blue\", \"yellow\"]\n",
        "list2 = [\"black\", \"gray\"]\n",
        "list1.append(list2)\n",
        "\n",
        "print(list1)\n"
      ],
      "metadata": {
        "id": "uHtjWYw7d7hm",
        "colab": {
          "base_uri": "https://localhost:8080/"
        },
        "outputId": "95778b2b-d588-40db-d4d5-c98110f9ea24"
      },
      "execution_count": 10,
      "outputs": [
        {
          "output_type": "stream",
          "name": "stdout",
          "text": [
            "['red', 'blue', 'yellow', ['black', 'gray']]\n"
          ]
        }
      ]
    },
    {
      "cell_type": "markdown",
      "source": [
        "11. Створіть список, де елементами цього списку також є списки. Отримай перший елемент з останнього рядка та виведи значення на екран."
      ],
      "metadata": {
        "id": "JC3BkD-67_--"
      }
    },
    {
      "cell_type": "code",
      "source": [
        "list = [[\"1\",\"A\", \"a\"], [\"2\", \"B\", \"b\"], [\"3\", \"C\", \"c\"]]\n",
        "item = list[-1][0]\n",
        "\n",
        "print(item)\n"
      ],
      "metadata": {
        "id": "Kz2jZHsGeLlz",
        "colab": {
          "base_uri": "https://localhost:8080/"
        },
        "outputId": "a36e2b7b-abc6-4291-8680-1502680e2ddd"
      },
      "execution_count": 11,
      "outputs": [
        {
          "output_type": "stream",
          "name": "stdout",
          "text": [
            "3\n"
          ]
        }
      ]
    },
    {
      "cell_type": "markdown",
      "source": [
        "12. Створіть список з десяти елементів різного типу. Отримайте всі елементи, окрім двох перших та двох останніх та збережіть їх в новій змінній."
      ],
      "metadata": {
        "id": "JA47PKTv8zFK"
      }
    },
    {
      "cell_type": "markdown",
      "source": [],
      "metadata": {
        "id": "IL04uv-F6rdO"
      }
    },
    {
      "cell_type": "code",
      "source": [
        "list = [True, \"2\", 3, 4.0, [5], (6,), {7}, {8 : 8}, 9 + 9j, None]\n",
        "new_list = list[2:-2]\n",
        "print(new_list)\n"
      ],
      "metadata": {
        "id": "_rHdUR-ueP4-",
        "colab": {
          "base_uri": "https://localhost:8080/"
        },
        "outputId": "7d23065d-a6aa-4a0a-9eb5-c8e05bf14877"
      },
      "execution_count": 12,
      "outputs": [
        {
          "output_type": "stream",
          "name": "stdout",
          "text": [
            "[3, 4.0, [5], (6,), {7}, {8: 8}]\n"
          ]
        }
      ]
    },
    {
      "cell_type": "markdown",
      "source": [
        "# V. Робота з кортежами."
      ],
      "metadata": {
        "id": "pCjR1dJb1Qbi"
      }
    },
    {
      "cell_type": "markdown",
      "source": [
        "14. Створити кортеж з один елементом."
      ],
      "metadata": {
        "id": "fAZCxAX06R_k"
      }
    },
    {
      "cell_type": "code",
      "source": [
        "my_tuple = (True,)\n",
        "isinstance(my_tuple, tuple)\n"
      ],
      "metadata": {
        "id": "H7d82WkQev3e",
        "colab": {
          "base_uri": "https://localhost:8080/"
        },
        "outputId": "d94d0f8d-926d-4928-b8b2-454ec431da3e"
      },
      "execution_count": 13,
      "outputs": [
        {
          "output_type": "execute_result",
          "data": {
            "text/plain": [
              "True"
            ]
          },
          "metadata": {},
          "execution_count": 13
        }
      ]
    },
    {
      "cell_type": "markdown",
      "source": [
        "15. Порівняйте список та кортеж. Назвіть схожості та відмінності, випадки використання."
      ],
      "metadata": {
        "id": "8LCtYcmI6w1M"
      }
    },
    {
      "cell_type": "markdown",
      "source": [
        "*   Списки і кортежі використовуються для зберігання даних\n",
        "*   Списки це динамічна структура даних. Використовується, коли треба можливість зміни елементів, їх видалення або додавання нових\n",
        "*   Кортежі це незмінна структура даних. Елементи кортежів неможливо змінити, видалити або додати нові. Такоє кортежі займають менше пам'яті.\n",
        "*   Списки можна використовувати для зберігання історії переглядів, бо вона постійно змінюється, а кортежі для роздільної зданості монітора, бо вона незмінна"
      ],
      "metadata": {
        "id": "fUsN1Hnue0C6"
      }
    },
    {
      "cell_type": "markdown",
      "source": [
        "16. Створіть кортеж з 11ти елементів чисел з рухомою комою та отримайте кожен парний за індексом елемент в зворотньому порядку. Наприклад, маючи (1.2, 2.3, 3.3, 4.3, 5.3, 6.3, 7.3, 8.3, 9.3, 0.3), отримати (0.3, 8.3, 6.3, 4.3, 2.3). Результат збережіть в нову змінну та виведіть на екран."
      ],
      "metadata": {
        "id": "m0xrwFijAmDD"
      }
    },
    {
      "cell_type": "code",
      "source": [
        "tuple = (1.9, 2.8, 3.7, 4.6, 5.5, 6.4, 7.3, 8.2, 9.1, 10.5, 0.5)\n",
        "new_tuple = (tuple[::-2])\n",
        "print(new_tuple)\n"
      ],
      "metadata": {
        "id": "p-5DAH6XfAGA",
        "colab": {
          "base_uri": "https://localhost:8080/"
        },
        "outputId": "d605e410-ac85-471a-ec67-94b1559a5d2f"
      },
      "execution_count": 14,
      "outputs": [
        {
          "output_type": "stream",
          "name": "stdout",
          "text": [
            "(0.5, 9.1, 7.3, 5.5, 3.7, 1.9)\n"
          ]
        }
      ]
    },
    {
      "cell_type": "markdown",
      "source": [
        "# VI. Множини (Set)."
      ],
      "metadata": {
        "id": "rW_I9dt3x6cW"
      }
    },
    {
      "cell_type": "markdown",
      "source": [
        "17. Створити множину без елементів. Після цого за допомогою методу додайте кілька різних елементів до множини. Чи множини є змінним типом даних?"
      ],
      "metadata": {
        "id": "zNjRLHLw1Bgg"
      }
    },
    {
      "cell_type": "code",
      "source": [
        "my_set = set()\n",
        "my_set.add(1)\n",
        "my_set.add((2.5, 9))\n",
        "my_set.add(\"string\")\n",
        "print(my_set)\n"
      ],
      "metadata": {
        "id": "KOv7zc2Kfo4N",
        "colab": {
          "base_uri": "https://localhost:8080/"
        },
        "outputId": "4a7b73b9-efe6-4dd6-cd08-cefc1dcd33ca"
      },
      "execution_count": 15,
      "outputs": [
        {
          "output_type": "stream",
          "name": "stdout",
          "text": [
            "{1, (2.5, 9), 'string'}\n"
          ]
        }
      ]
    },
    {
      "cell_type": "markdown",
      "source": [
        "*   Так, множини це незмінний тип данних. Після його створення до нього можливо додати нові елементи, змінити існуючі чи видалити їх. Проте до множин не можна додавати змінні елементи, наприклад: списки, словники або сети"
      ],
      "metadata": {
        "id": "vxS6dVYiftZQ"
      }
    },
    {
      "cell_type": "markdown",
      "source": [
        "18. Створити множину, маючи список my_list = [1, 1, 2, 67, 67, 8, 9]. Пояснити, чому \"зникли\" деякі елементи."
      ],
      "metadata": {
        "id": "gHpT0Zw_1HEF"
      }
    },
    {
      "cell_type": "code",
      "source": [
        "my_list = [1, 1, 2, 67, 67, 8, 9]\n",
        "my_set = set(my_list)\n",
        "print(my_set)\n"
      ],
      "metadata": {
        "id": "qCN4uvJ_fxmu",
        "colab": {
          "base_uri": "https://localhost:8080/"
        },
        "outputId": "44a842da-df6c-45a9-f036-d0801556926f"
      },
      "execution_count": 16,
      "outputs": [
        {
          "output_type": "stream",
          "name": "stdout",
          "text": [
            "{1, 2, 67, 8, 9}\n"
          ]
        }
      ]
    },
    {
      "cell_type": "markdown",
      "source": [
        "*   Множина(set) це невпорядкована структура даних, що зберігає тільки унікальні елементи(дублікати не можливі)"
      ],
      "metadata": {
        "id": "tFNc1e20fyny"
      }
    },
    {
      "cell_type": "markdown",
      "source": [
        "19. Створіть дві множини. Продемонстуйте над ними операції: обʼєднання, різниці, пересічі та симетричної різниці. Використовуйте методи, що не змінюють множини, а створюють нові."
      ],
      "metadata": {
        "id": "SRMkGizS1UwY"
      }
    },
    {
      "cell_type": "code",
      "source": [
        "set1 = {0, 1, 3, 5, 10, 11}\n",
        "set2 = {0, 2, 4, 6, 10, 11}\n",
        "\n",
        "set_union = set1.union(set2)\n",
        "print(f\"set1 ∪ set2 = {set_union}\")\n",
        "\n",
        "set_diff1 = set1.difference(set2)\n",
        "set_diff2 = set2.difference(set1)\n",
        "print(f\"set1 \\ set2 = {set_diff1}\")\n",
        "print(f\"set2 \\ set1 = {set_diff2}\")\n",
        "\n",
        "set_inter = set1.intersection(set2)\n",
        "print(f\"set1 ∩ set2 = {set_inter}\")\n",
        "\n",
        "set_sym_diff = set1.symmetric_difference(set2)\n",
        "print(f\"set1 ∆ set2 = {set_sym_diff}\")\n"
      ],
      "metadata": {
        "id": "h0T-VuDnf3Ri",
        "colab": {
          "base_uri": "https://localhost:8080/"
        },
        "outputId": "ef060fac-ce71-44d2-e23a-dcd02082fcdc"
      },
      "execution_count": 17,
      "outputs": [
        {
          "output_type": "stream",
          "name": "stdout",
          "text": [
            "set1 ∪ set2 = {0, 1, 2, 3, 4, 5, 6, 10, 11}\n",
            "set1 \\ set2 = {1, 3, 5}\n",
            "set2 \\ set1 = {2, 4, 6}\n",
            "set1 ∩ set2 = {0, 10, 11}\n",
            "set1 ∆ set2 = {1, 2, 3, 4, 5, 6}\n"
          ]
        }
      ]
    },
    {
      "cell_type": "markdown",
      "source": [
        "# VII. Словники (Dictionary)."
      ],
      "metadata": {
        "id": "kWc8gkzTx7Ea"
      }
    },
    {
      "cell_type": "markdown",
      "source": [
        "20. Створіть пустий словник. До нього додайте чотири пари елементів такі, щоб їхні ключі були різних типів. Чи може список бути ключем? Чому?"
      ],
      "metadata": {
        "id": "i5FLwj-B2ybQ"
      }
    },
    {
      "cell_type": "code",
      "source": [
        "dictionary = {}\n",
        "dictionary[False] = \"bool\"\n",
        "dictionary[1.0] = \"float\"\n",
        "dictionary[2] = \"int\"\n",
        "dictionary[(2.5, 1)] = \"tuple\"\n",
        "\n",
        "print(dictionary)"
      ],
      "metadata": {
        "id": "hxgv3BzrgLAV",
        "colab": {
          "base_uri": "https://localhost:8080/"
        },
        "outputId": "1bbae53d-9767-4af0-a86a-02505db9f1a0"
      },
      "execution_count": 18,
      "outputs": [
        {
          "output_type": "stream",
          "name": "stdout",
          "text": [
            "{False: 'bool', 1.0: 'float', 2: 'int', (2.5, 1): 'tuple'}\n"
          ]
        }
      ]
    },
    {
      "cell_type": "markdown",
      "source": [
        "*   Список не може бути ключем у словнику, бо це динамічна структура даних, яку можна змінювати. Натомість ключі у словнику мають бути незмінними, тому можна використати кортеж"
      ],
      "metadata": {
        "id": "zwa7UVN-gR3m"
      }
    },
    {
      "cell_type": "markdown",
      "source": [
        "21. Створіть словник, де значенням в одній з пар теж буде словник, який теж має вкладений словник. Виведіть на екран значення, що міститься в словнику, що знаходиться на найнижчому рівні ієрархії вкладеності (найбільш внутрішній)."
      ],
      "metadata": {
        "id": "WM_pMlJsgoNf"
      }
    },
    {
      "cell_type": "code",
      "source": [
        "dictionary = {\"bool\" : False, \"int\" : 1, \"dict\" : {\"float\" : 9.99}}\n",
        "print(dictionary[\"dict\"][\"float\"])"
      ],
      "metadata": {
        "id": "60dlP7IHhAy4",
        "colab": {
          "base_uri": "https://localhost:8080/"
        },
        "outputId": "53b84125-d63c-4549-848e-9395bb1a039d"
      },
      "execution_count": 19,
      "outputs": [
        {
          "output_type": "stream",
          "name": "stdout",
          "text": [
            "9.99\n"
          ]
        }
      ]
    },
    {
      "cell_type": "markdown",
      "source": [
        "# Вітаю! Ви велика(ий) молодець, що впоралась(вся). Похваліть себе та побалуйте чимось приємним. Я Вами пишаюся."
      ],
      "metadata": {
        "id": "xOZP0hkx6cCr"
      }
    }
  ]
}