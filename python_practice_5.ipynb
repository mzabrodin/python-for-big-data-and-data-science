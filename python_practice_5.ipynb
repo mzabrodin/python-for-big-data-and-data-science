{
  "nbformat": 4,
  "nbformat_minor": 0,
  "metadata": {
    "colab": {
      "provenance": []
    },
    "kernelspec": {
      "name": "python3",
      "display_name": "Python 3"
    },
    "language_info": {
      "name": "python"
    }
  },
  "cells": [
    {
      "cell_type": "markdown",
      "source": [
        "# I. OOP"
      ],
      "metadata": {
        "id": "5qV_sehzFCTp"
      }
    },
    {
      "cell_type": "markdown",
      "source": [
        "1. (6б). Створіть клас Building, додайте три атрибути, один з яких має значення за замовчуванням та два методи на свій розсуд."
      ],
      "metadata": {
        "id": "tx_U_hOALyfg"
      }
    },
    {
      "cell_type": "code",
      "source": [
        "class Building(object):\n",
        "    def __init__(self, address, rent_price, residents = 1):\n",
        "        self.address = address\n",
        "        self.rent_price = rent_price if rent_price > 0 else 1\n",
        "        self.residents = residents if residents > 0 else 1\n",
        "\n",
        "    def __str__(self):\n",
        "        return f\"\"\"Building Properties:\n",
        "                   Address: {self.address}\n",
        "                   Rent price: {self.rent_price}\n",
        "                   nResidents: {self.residents}\"\"\"\n",
        "\n",
        "    def set_new_rent_price(self, new_rent_price):\n",
        "        self.rent_price = new_rent_price\n"
      ],
      "metadata": {
        "id": "-Vf895KaL88N"
      },
      "execution_count": 1,
      "outputs": []
    },
    {
      "cell_type": "markdown",
      "source": [
        "2. (2б). Створіть два обʼєкти цього класу, де один з обʼєктів створюється із дефолтним значенням атрибуту. На одному обʼєкті отримайте значення його атрибуту, а на іншому викличте один з його методів."
      ],
      "metadata": {
        "id": "X_UlOMB0L93w"
      }
    },
    {
      "cell_type": "code",
      "source": [
        "dormitory_room = Building(\"Oleksandry Ekster 14B\", 1104)\n",
        "aparments_troieshchyna = Building(\"Chervonoi Kalyny 81\", 12000, 2)\n",
        "\n",
        "print(f\"Residents: {dormitory_room.residents}\")\n",
        "aparments_troieshchyna.set_new_rent_price(11000)\n",
        "print(aparments_troieshchyna.rent_price)\n"
      ],
      "metadata": {
        "id": "7gBu0ESOMCpG",
        "colab": {
          "base_uri": "https://localhost:8080/"
        },
        "outputId": "524898f6-ed58-411f-989b-a82cf4749e0e"
      },
      "execution_count": 2,
      "outputs": [
        {
          "output_type": "stream",
          "name": "stdout",
          "text": [
            "Residents: 1\n",
            "11000\n"
          ]
        }
      ]
    },
    {
      "cell_type": "markdown",
      "source": [
        "3. (5б). Створіть клас, де атрибути мають різні рівні доступу. Спробуйте отримати їхні значення та опишіть результати."
      ],
      "metadata": {
        "id": "HoqSCZt1MHn5"
      }
    },
    {
      "cell_type": "code",
      "source": [
        "class Student(object):\n",
        "    def __init__(self, name, surname, age):\n",
        "        self.name = name\n",
        "        self._surname = surname\n",
        "        self.__age = age if age >= 18 else 17\n",
        "\n",
        "me = Student(\"Maksym\", \"Zabrodin\", 19)\n",
        "\n",
        "print(me.name) # public variable, so we can access it using [object].[attribute]\n",
        "print(me._surname) # we can access this variable, although in python it is not good thing to do\n",
        "print(me.__age) # we will get an error because after creating the ‘me’ object, this variable was renamed to _Student__age. so we have to access such a variable using getters/setters"
      ],
      "metadata": {
        "id": "r9b3vJxBMSPV",
        "colab": {
          "base_uri": "https://localhost:8080/",
          "height": 211
        },
        "outputId": "d80185b5-5358-41fd-f863-d4b179de9dcb"
      },
      "execution_count": 3,
      "outputs": [
        {
          "output_type": "stream",
          "name": "stdout",
          "text": [
            "Maksym\n",
            "Zabrodin\n"
          ]
        },
        {
          "output_type": "error",
          "ename": "AttributeError",
          "evalue": "'Student' object has no attribute '__age'",
          "traceback": [
            "\u001b[0;31m---------------------------------------------------------------------------\u001b[0m",
            "\u001b[0;31mAttributeError\u001b[0m                            Traceback (most recent call last)",
            "\u001b[0;32m<ipython-input-3-683d9b378ed1>\u001b[0m in \u001b[0;36m<cell line: 0>\u001b[0;34m()\u001b[0m\n\u001b[1;32m      9\u001b[0m \u001b[0mprint\u001b[0m\u001b[0;34m(\u001b[0m\u001b[0mme\u001b[0m\u001b[0;34m.\u001b[0m\u001b[0mname\u001b[0m\u001b[0;34m)\u001b[0m \u001b[0;31m# public variable, so we can access it using [object].[attribute]\u001b[0m\u001b[0;34m\u001b[0m\u001b[0;34m\u001b[0m\u001b[0m\n\u001b[1;32m     10\u001b[0m \u001b[0mprint\u001b[0m\u001b[0;34m(\u001b[0m\u001b[0mme\u001b[0m\u001b[0;34m.\u001b[0m\u001b[0m_surname\u001b[0m\u001b[0;34m)\u001b[0m \u001b[0;31m# we can access this variable, although in python it is not good thing to do\u001b[0m\u001b[0;34m\u001b[0m\u001b[0;34m\u001b[0m\u001b[0m\n\u001b[0;32m---> 11\u001b[0;31m \u001b[0mprint\u001b[0m\u001b[0;34m(\u001b[0m\u001b[0mme\u001b[0m\u001b[0;34m.\u001b[0m\u001b[0m__age\u001b[0m\u001b[0;34m)\u001b[0m \u001b[0;31m# we will get an error because after creating the ‘me’ object, this variable was renamed to _Student__age. so we have to access such a variable using getters/setters\u001b[0m\u001b[0;34m\u001b[0m\u001b[0;34m\u001b[0m\u001b[0m\n\u001b[0m",
            "\u001b[0;31mAttributeError\u001b[0m: 'Student' object has no attribute '__age'"
          ]
        }
      ]
    },
    {
      "cell_type": "markdown",
      "source": [
        "4. (7б). Як ви розумієте термін self? Для чого використовується метод __init __?"
      ],
      "metadata": {
        "id": "5op2m2vgMSkZ"
      }
    },
    {
      "cell_type": "markdown",
      "source": [
        "*   `self` - аналог `this` з інших мов програмування. Використовується для звернення до об'єкта класу у самому класі. Наприклад, щоб отримати значення атрибутів класу `self.[назва_атрибуту]`\n",
        "*   `__init__` - метод-конструктор. Неявно викликається при створенні екземпляру класу. Може містити у собі ініціалізацію атрибутів та якісь методи."
      ],
      "metadata": {
        "id": "DyiPqNRvMasx"
      }
    },
    {
      "cell_type": "markdown",
      "source": [
        "5. (9б). Створіть клас 3D-фігура без атрибутів, з методом get_volume для отримання об'єму фігури, що повертає 0 та __add __, який приймає self та other в якості аргументів, а повертає суму об'ємів 3d-фігур self та other."
      ],
      "metadata": {
        "id": "-6X8EGfjMd2y"
      }
    },
    {
      "cell_type": "code",
      "source": [
        "class ThreeDimensionFigure(object):\n",
        "    def get_volume(self):\n",
        "        return 0\n",
        "\n",
        "    def __add__(self, other):\n",
        "        return self.get_volume() + other.get_volume()"
      ],
      "metadata": {
        "id": "4rvO_wYUMaEr"
      },
      "execution_count": 4,
      "outputs": []
    },
    {
      "cell_type": "markdown",
      "source": [
        "6. (11б). Створіть 2 дочірніх класи від 3d-фігура: Циліндр та Куб, які мають атрибути, необхідні для розрахунку об'єму. Визначте метод get_volume в кожному з них так, щоби вони розраховували об'єм у залежності від формули для кожного типу фігури. Створіть обʼєкт класу Циліндр та обʼєкт класу Куб. Виконайте операцію суми за допомогою оператора + між ними, аби знайти сумарний об'єм."
      ],
      "metadata": {
        "id": "SFcKnnv5Mo_z"
      }
    },
    {
      "cell_type": "code",
      "source": [
        "from math import pi\n",
        "\n",
        "class Cylinder(ThreeDimensionFigure):\n",
        "    def __init__(self, radius, height):\n",
        "        self.radius = radius\n",
        "        self.height = height\n",
        "\n",
        "    def get_volume(self):\n",
        "        return pi * self.radius**2 * self.height\n",
        "\n",
        "\n",
        "class Cube(ThreeDimensionFigure):\n",
        "    def __init__(self, edge):\n",
        "        self.edge = edge\n",
        "\n",
        "    def get_volume(self):\n",
        "        return self.edge**3\n",
        "\n",
        "my_cylinder = Cylinder(5, 10)\n",
        "my_cube = Cube(5)\n",
        "print(my_cylinder + my_cube)"
      ],
      "metadata": {
        "id": "H3GVNr69Muf3",
        "colab": {
          "base_uri": "https://localhost:8080/"
        },
        "outputId": "107a9cd5-7d59-4fb6-e38e-3bb92fc0d608"
      },
      "execution_count": 5,
      "outputs": [
        {
          "output_type": "stream",
          "name": "stdout",
          "text": [
            "910.3981633974483\n"
          ]
        }
      ]
    },
    {
      "cell_type": "markdown",
      "source": [
        "7. (3б). Продемонструйте різницю між isinstance та issubclass."
      ],
      "metadata": {
        "id": "HCvR206YMvLK"
      }
    },
    {
      "cell_type": "code",
      "source": [
        "# isinstance is used to check whether the created object is an instance of a certain class\n",
        "print(isinstance(my_cube, (Cube, ThreeDimensionFigure)))\n",
        "print(isinstance(my_cube, Cylinder))\n",
        "\n",
        "# issubclass is used to check whether a certain class is a subclass (child) of another class\n",
        "print(issubclass(Cube, (Cube, ThreeDimensionFigure)))\n",
        "print(issubclass(Cube, Cylinder))"
      ],
      "metadata": {
        "id": "L_V1bBvDM0GN",
        "colab": {
          "base_uri": "https://localhost:8080/"
        },
        "outputId": "bab6bb4c-fdb1-4448-9ae3-5dcd083f35d6"
      },
      "execution_count": 6,
      "outputs": [
        {
          "output_type": "stream",
          "name": "stdout",
          "text": [
            "True\n",
            "False\n",
            "True\n",
            "False\n"
          ]
        }
      ]
    },
    {
      "cell_type": "markdown",
      "source": [
        "8. (13б). Створіть клас EWallet з приватними атрибутами balance та id. Реалізуйте методи поповнення та зняття коштів, забезпечивши належну інкапсуляцію. Підказка: використовуйте декоратори property та setter."
      ],
      "metadata": {
        "id": "jjsaBZ-iM0Qq"
      }
    },
    {
      "cell_type": "code",
      "source": [
        "class EWallet(object):\n",
        "    def __init__(self, balance, id):\n",
        "        self.__balance = balance if balance > 0 else 0\n",
        "        self.__id = id\n",
        "\n",
        "    @property\n",
        "    def balance(self):\n",
        "        return self.__balance\n",
        "\n",
        "    @balance.setter\n",
        "    def balance(self, new_balance):\n",
        "        if new_balance >= 0:\n",
        "            self.__balance = new_balance\n",
        "\n",
        "    @property\n",
        "    def id(self):\n",
        "        return self.__id\n",
        "\n",
        "    @id.setter\n",
        "    def id(self, new_id):\n",
        "        self.__id = new_id\n",
        "\n",
        "    def withdraw_money(self, money_to_withdraw, wallet_id):\n",
        "        if wallet_id == self.id:\n",
        "            if 0 < money_to_withdraw < self.balance:\n",
        "                self.balance -= money_to_withdraw\n",
        "            else:\n",
        "                print(\"Not enough money on your wallet\")\n",
        "        else:\n",
        "            print(\"It is not correct ID\")\n",
        "\n",
        "    def deposit_money(self, money_to_deposit, wallet_id):\n",
        "        if wallet_id == self.id:\n",
        "            self.balance += money_to_deposit\n",
        "        else:\n",
        "            print(\"It is not correct ID\")\n",
        "\n",
        "my_wallet = EWallet(5000, 5)\n",
        "my_wallet.deposit_money(2500, 5)\n",
        "print(my_wallet.balance)\n",
        "my_wallet.withdraw_money(4000, 5)\n",
        "print(my_wallet.balance)\n"
      ],
      "metadata": {
        "id": "xCvZ7lh8M7YA",
        "colab": {
          "base_uri": "https://localhost:8080/"
        },
        "outputId": "ebc83e85-c57c-40cf-e0db-e0b2914b9b85"
      },
      "execution_count": 7,
      "outputs": [
        {
          "output_type": "stream",
          "name": "stdout",
          "text": [
            "7500\n",
            "3500\n"
          ]
        }
      ]
    },
    {
      "cell_type": "markdown",
      "source": [
        "9. (11б). Створіть клас ShoppingCart, який містить список об'єктів типу Item. Реалізуйте методи для додавання айтемів, їх видалення та відображення списку айтемів."
      ],
      "metadata": {
        "id": "tIzL2SJTM8ft"
      }
    },
    {
      "cell_type": "code",
      "source": [
        "from copy import deepcopy\n",
        "\n",
        "class Item(object):\n",
        "    def __init__(self, name, price):\n",
        "        self._name = name\n",
        "        self._price = price if price > 0 else 1\n",
        "\n",
        "    def __str__(self):\n",
        "        return f\"{self._name} with a price of: {self._price:.2f}\"\n",
        "\n",
        "\n",
        "class ShoppingCart(object):\n",
        "    def __init__(self, items = []):\n",
        "        self._items = deepcopy(items) if items else []\n",
        "\n",
        "    def add_item(self, item):\n",
        "        self._items.append(item)\n",
        "\n",
        "    def remove_item(self, item):\n",
        "        for item_in_list in self._items:\n",
        "            if item_in_list._name == item._name and item_in_list._price == item._price:\n",
        "                self._items.remove(item_in_list)\n",
        "                break\n",
        "\n",
        "    def __str__(self):\n",
        "        if not self._items:\n",
        "            return \"Cart: Empty\"\n",
        "        else:\n",
        "            items_string = \"\".join({str(f\"{item}\\n\") for item in self._items})\n",
        "            return f\"Cart:\\n{items_string}\"\n",
        "\n",
        "my_shopping_cart = ShoppingCart([Item(\"Laptop\", 50000), Item(\"Phone\", 19999.99), Item(\"Coffee\", 75)])\n",
        "print(my_shopping_cart)\n"
      ],
      "metadata": {
        "id": "HWxfJKLtNAUZ"
      },
      "execution_count": null,
      "outputs": []
    },
    {
      "cell_type": "markdown",
      "source": [
        "10. (13б). Створіть клас Vehicle з атрибутами brand (manufacturer) та production_age. Створіть ще один клас Engine з такими атрибутами, як type (ex. petrol) та size (volume, litres). Створіть клас Car, який успадковує обидва класи Vehicle та Engine. Продемонструйте використання множинної спадковості, створивши обʼєкт класу Car та отримавши mro для цього класу."
      ],
      "metadata": {
        "id": "lmV8pAwwNIqu"
      }
    },
    {
      "cell_type": "code",
      "source": [
        "class Vehicle(object):\n",
        "    def __init__(self,  manufacturer, production_age):\n",
        "        self._manufacturer = manufacturer\n",
        "        self._production_age = production_age\n",
        "    def __str__(self):\n",
        "        return f\"{self._manufacturer} with {self._production_age} year(s) of production age\"\n",
        "\n",
        "\n",
        "class Engine(object):\n",
        "    def __init__(self, engine_type, size):\n",
        "        self._engine_type = engine_type\n",
        "        self._size = size\n",
        "\n",
        "    def __str__(self):\n",
        "        return f\"{self._size} litres {self._engine_type} engine\"\n",
        "\n",
        "class Car(Vehicle, Engine):\n",
        "    def __init__(self, manufacturer, production_age, engine_type, size):\n",
        "        Vehicle.__init__(self, manufacturer, production_age)\n",
        "        Engine.__init__(self, engine_type, size)\n",
        "\n",
        "    def __str__(self):\n",
        "        return f\"{Vehicle.__str__(self)} with {Engine.__str__(self).lower()}\"\n",
        "\n",
        "bmw = Car(\"Hyundai i30\", 5, \"Petrol\", 1.5)\n",
        "\n",
        "print(bmw)\n",
        "print(Car.mro())\n"
      ],
      "metadata": {
        "id": "R49grKlWNPeN",
        "colab": {
          "base_uri": "https://localhost:8080/"
        },
        "outputId": "d2eebf6a-6732-48d7-ab96-5750cceb2cb5"
      },
      "execution_count": 8,
      "outputs": [
        {
          "output_type": "stream",
          "name": "stdout",
          "text": [
            "Hyundai i30 with 5 year(s) of production age with 1.5 litres petrol engine\n",
            "[<class '__main__.Car'>, <class '__main__.Vehicle'>, <class '__main__.Engine'>, <class 'object'>]\n"
          ]
        }
      ]
    },
    {
      "cell_type": "markdown",
      "source": [
        "# II. Iterator"
      ],
      "metadata": {
        "id": "dIJyUiNBFG8G"
      }
    },
    {
      "cell_type": "markdown",
      "source": [
        "11. (4б). Визначте рядок(str) з 4ма різними за значенням символами. Створіть ітератор на основі цього рядка. Викличте 5 разів функцію next на ітераторі, 4ри перших з них огорніть у ф-цію print()."
      ],
      "metadata": {
        "id": "13vsm0NyKIzL"
      }
    },
    {
      "cell_type": "code",
      "source": [
        "my_string = \"1234\"\n",
        "my_string_iter = iter(my_string)\n",
        "\n",
        "for i in range(0, 4):\n",
        "    print(next(my_string_iter))\n",
        "next(my_string_iter) # we will get an error because there are no elements left to iterate\n"
      ],
      "metadata": {
        "id": "81ntabAkKuz-",
        "colab": {
          "base_uri": "https://localhost:8080/",
          "height": 245
        },
        "outputId": "87eea9bd-760e-4aad-9fd6-f12f0090d386"
      },
      "execution_count": 9,
      "outputs": [
        {
          "output_type": "stream",
          "name": "stdout",
          "text": [
            "1\n",
            "2\n",
            "3\n",
            "4\n"
          ]
        },
        {
          "output_type": "error",
          "ename": "StopIteration",
          "evalue": "",
          "traceback": [
            "\u001b[0;31m---------------------------------------------------------------------------\u001b[0m",
            "\u001b[0;31mStopIteration\u001b[0m                             Traceback (most recent call last)",
            "\u001b[0;32m<ipython-input-9-fd4f77b21a69>\u001b[0m in \u001b[0;36m<cell line: 0>\u001b[0;34m()\u001b[0m\n\u001b[1;32m      4\u001b[0m \u001b[0;32mfor\u001b[0m \u001b[0mi\u001b[0m \u001b[0;32min\u001b[0m \u001b[0mrange\u001b[0m\u001b[0;34m(\u001b[0m\u001b[0;36m0\u001b[0m\u001b[0;34m,\u001b[0m \u001b[0;36m4\u001b[0m\u001b[0;34m)\u001b[0m\u001b[0;34m:\u001b[0m\u001b[0;34m\u001b[0m\u001b[0;34m\u001b[0m\u001b[0m\n\u001b[1;32m      5\u001b[0m     \u001b[0mprint\u001b[0m\u001b[0;34m(\u001b[0m\u001b[0mnext\u001b[0m\u001b[0;34m(\u001b[0m\u001b[0mmy_string_iter\u001b[0m\u001b[0;34m)\u001b[0m\u001b[0;34m)\u001b[0m\u001b[0;34m\u001b[0m\u001b[0;34m\u001b[0m\u001b[0m\n\u001b[0;32m----> 6\u001b[0;31m \u001b[0mnext\u001b[0m\u001b[0;34m(\u001b[0m\u001b[0mmy_string_iter\u001b[0m\u001b[0;34m)\u001b[0m \u001b[0;31m# we will get an error because there are no elements left to iterate\u001b[0m\u001b[0;34m\u001b[0m\u001b[0;34m\u001b[0m\u001b[0m\n\u001b[0m",
            "\u001b[0;31mStopIteration\u001b[0m: "
          ]
        }
      ]
    },
    {
      "cell_type": "markdown",
      "source": [
        "А що якщо викликати цю ж функцію на рядку?"
      ],
      "metadata": {
        "id": "aekWHGXOLRsO"
      }
    },
    {
      "cell_type": "code",
      "source": [
        "for i in range(0, 5): # we will get an error because string is an iterable object, not an iterator\n",
        "    print(next(my_string))\n",
        "next(my_string)\n"
      ],
      "metadata": {
        "id": "mxATGsErLV1i",
        "colab": {
          "base_uri": "https://localhost:8080/",
          "height": 176
        },
        "outputId": "c679ff3a-99f6-4698-a27a-13ffdecb5955"
      },
      "execution_count": 10,
      "outputs": [
        {
          "output_type": "error",
          "ename": "TypeError",
          "evalue": "'str' object is not an iterator",
          "traceback": [
            "\u001b[0;31m---------------------------------------------------------------------------\u001b[0m",
            "\u001b[0;31mTypeError\u001b[0m                                 Traceback (most recent call last)",
            "\u001b[0;32m<ipython-input-10-bad90efa502e>\u001b[0m in \u001b[0;36m<cell line: 0>\u001b[0;34m()\u001b[0m\n\u001b[1;32m      1\u001b[0m \u001b[0;32mfor\u001b[0m \u001b[0mi\u001b[0m \u001b[0;32min\u001b[0m \u001b[0mrange\u001b[0m\u001b[0;34m(\u001b[0m\u001b[0;36m0\u001b[0m\u001b[0;34m,\u001b[0m \u001b[0;36m5\u001b[0m\u001b[0;34m)\u001b[0m\u001b[0;34m:\u001b[0m \u001b[0;31m# we will get an error because string is an iterable object, not an iterator\u001b[0m\u001b[0;34m\u001b[0m\u001b[0;34m\u001b[0m\u001b[0m\n\u001b[0;32m----> 2\u001b[0;31m     \u001b[0mprint\u001b[0m\u001b[0;34m(\u001b[0m\u001b[0mnext\u001b[0m\u001b[0;34m(\u001b[0m\u001b[0mmy_string\u001b[0m\u001b[0;34m)\u001b[0m\u001b[0;34m)\u001b[0m\u001b[0;34m\u001b[0m\u001b[0;34m\u001b[0m\u001b[0m\n\u001b[0m\u001b[1;32m      3\u001b[0m \u001b[0mnext\u001b[0m\u001b[0;34m(\u001b[0m\u001b[0mmy_string\u001b[0m\u001b[0;34m)\u001b[0m\u001b[0;34m\u001b[0m\u001b[0;34m\u001b[0m\u001b[0m\n",
            "\u001b[0;31mTypeError\u001b[0m: 'str' object is not an iterator"
          ]
        }
      ]
    },
    {
      "cell_type": "markdown",
      "source": [
        " 12. (5б). Опишіть своїми словами в одному реченні, як ви розумієте різницю між ітерабельними обʼєктами та ітераторами (можна на прикладі)."
      ],
      "metadata": {
        "id": "XwtMEopwJ4pH"
      }
    },
    {
      "cell_type": "markdown",
      "source": [
        "*   iterable objects - це об'єкти, зокрема структури даних, які вже реалізують ітератор, тому по ним можна ітеруватися за допомогою, наприклад, for-each (який неявно створює ітератор цього об'єкту) та для них можна застосувати метод `iter()`\n",
        "*   iterator - це об'єкт з методами `__iter__`, що повертає себе, та `__next__`, що повертає наступний елемент, що дозволяють ітеруватися по об'єкту."
      ],
      "metadata": {
        "id": "-sHrODc3KFn8"
      }
    },
    {
      "cell_type": "markdown",
      "source": [
        "13. (11б). Створіть клас, що має визначений Iterator Protocol та при кожному виклику next повертає назву дня тижня, поки вони не вичерпаються. Зверніть увагу, що порядок має значення."
      ],
      "metadata": {
        "id": "E9qJWmNbK8Gl"
      }
    },
    {
      "cell_type": "code",
      "source": [
        "class Week:\n",
        "    def __init__(self):\n",
        "        self.days = [\n",
        "            \"Monday\",\n",
        "            \"Tuesday\",\n",
        "            \"Wednesday\",\n",
        "            \"Thursday\",\n",
        "            \"Friday\",\n",
        "            \"Saturday\",\n",
        "            \"Sunday\"\n",
        "            ]\n",
        "\n",
        "    def __iter__(self):\n",
        "        self.current = 0\n",
        "        return self\n",
        "\n",
        "    def __next__(self):\n",
        "        if self.current < 7:\n",
        "            day = self.days[self.current]\n",
        "            self.current += 1\n",
        "            return day\n",
        "        else:\n",
        "            raise StopIteration\n",
        "\n",
        "week = Week()\n",
        "for day in week:\n",
        "    print(day)\n"
      ],
      "metadata": {
        "id": "cqx-g_RsLo6I",
        "colab": {
          "base_uri": "https://localhost:8080/"
        },
        "outputId": "6aeaadb4-7be5-4e01-bff2-d09367bc510d"
      },
      "execution_count": 11,
      "outputs": [
        {
          "output_type": "stream",
          "name": "stdout",
          "text": [
            "Monday\n",
            "Tuesday\n",
            "Wednesday\n",
            "Thursday\n",
            "Friday\n",
            "Saturday\n",
            "Sunday\n"
          ]
        }
      ]
    },
    {
      "cell_type": "markdown",
      "source": [
        "# Вітаю! Ви велика(ий) молодець, що впоралась(вся). Похваліть себе та побалуйте чимось приємним. Я Вами пишаюся."
      ],
      "metadata": {
        "id": "Z3E3S_s1Fv7-"
      }
    },
    {
      "cell_type": "markdown",
      "source": [
        "![mqp1380-320x320h.jpeg.webp](data:image/webp;base64,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)"
      ],
      "metadata": {
        "id": "71EMz2YPmoYl"
      }
    }
  ]
}