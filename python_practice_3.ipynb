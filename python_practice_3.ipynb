{
 "nbformat": 4,
 "nbformat_minor": 0,
 "metadata": {
  "colab": {
   "provenance": []
  },
  "kernelspec": {
   "name": "python3",
   "display_name": "Python 3"
  },
  "language_info": {
   "name": "python"
  }
 },
 "cells": [
  {
   "cell_type": "markdown",
   "source": [
    "# I. Оператори порівняння та логічні оператори. Умови."
   ],
   "metadata": {
    "id": "qDEi2Pi-4yUC"
   }
  },
  {
   "cell_type": "markdown",
   "source": [
    "1. (5б) Створіть цілочисленну змінну зі своїм щасливим або улюбленим числом. Напишіть код, який би автоматизовував наступну задачу.\n",
    "\n",
    "Якщо число парне, помножте його на 2 та виведіть результат на екран.\n",
    "\n",
    "Але якщо число непарне, помножте його на 3 та додайте 1 і виведіть на екран."
   ],
   "metadata": {
    "id": "3v8D4Dkm43Ua"
   }
  },
  {
   "cell_type": "code",
   "execution_count": 1,
   "metadata": {
    "id": "dlVjc-Nu4bmb",
    "colab": {
     "base_uri": "https://localhost:8080/"
    },
    "outputId": "10da9806-c9c1-4f0c-d387-87a462f56b4e"
   },
   "outputs": [
    {
     "output_type": "stream",
     "name": "stdout",
     "text": [
      "220\n"
     ]
    }
   ],
   "source": [
    "my_favourite_number = 73\n",
    "\n",
    "if my_favourite_number % 2 == 0:\n",
    "  my_favourite_number*=2\n",
    "else:\n",
    "  my_favourite_number*=3\n",
    "  my_favourite_number+=1\n",
    "\n",
    "print(my_favourite_number)\n"
   ]
  },
  {
   "cell_type": "markdown",
   "source": [
    "2. (9б) Створіть змінну, що посилається на список. Якщо список пустий, додайте будь-який елемент у кінець списку. Якщо ж ні, то нічого не робіть."
   ],
   "metadata": {
    "id": "H669P0QK5BI_"
   }
  },
  {
   "cell_type": "code",
   "source": [
    "my_list = []\n",
    "\n",
    "if not my_list:\n",
    "  my_list.append(220)\n",
    "\n",
    "print(my_list)\n"
   ],
   "metadata": {
    "id": "ecWlfra45f6E",
    "colab": {
     "base_uri": "https://localhost:8080/"
    },
    "outputId": "9f09699c-7fef-4209-a458-15ed98be9438"
   },
   "execution_count": 2,
   "outputs": [
    {
     "output_type": "stream",
     "name": "stdout",
     "text": [
      "[220]\n"
     ]
    }
   ]
  },
  {
   "cell_type": "markdown",
   "source": [
    "3. (13б) Створіть рядок зі своїм імʼям латинкою. Напишіть код, який би автоматизовував наступну задачу.\n",
    "\n",
    "Якщо в імені є літера \"а\"\n",
    " або \"i\", Виведіть на екран повідомлення \"A or I is in the name\".\n",
    "\n",
    "\n",
    "\n",
    "Якщо в імені є літери \"o\" та \"n\", Виведіть на екран повідомлення \"O and N is in the name\".\n",
    "\n",
    "Також якщо в імені немає літери \"о\", але є \"n\", Виведіть на екран повідомлення \"Only N is in the name\".\n",
    "\n",
    "В решті випадків виведіть на екран повідомлення \"There is no N in the name, but there might be O\".\n",
    "\n",
    "Зверніть увагу, що, наприклад, для імені \"Antonina\" буде виведено два повідомлення."
   ],
   "metadata": {
    "id": "h9Y3cMUd5h85"
   }
  },
  {
   "cell_type": "code",
   "source": [
    "my_name = \"Maksym\"\n",
    "my_lower_name = my_name.lower()\n",
    "\n",
    "if \"a\" in my_lower_name or \"i\" in my_lower_name:\n",
    "  print(\"A or I is on the name\")\n",
    "\n",
    "if \"o\" in my_lower_name and \"n\" in my_lower_name:\n",
    "  print(\"O and N is in the name\")\n",
    "elif \"n\" in my_lower_name:\n",
    "  print(\"Only N is in the name\")\n",
    "else:\n",
    "  print(\"There is no N in the name, but there might be O\")\n"
   ],
   "metadata": {
    "id": "bUH4LUx35u52",
    "colab": {
     "base_uri": "https://localhost:8080/"
    },
    "outputId": "216b1234-3273-46d3-91ba-1a32b9ab1474"
   },
   "execution_count": 3,
   "outputs": [
    {
     "output_type": "stream",
     "name": "stdout",
     "text": [
      "A or I is on the name\n",
      "There is no N in the name, but there might be O\n"
     ]
    }
   ]
  },
  {
   "cell_type": "markdown",
   "source": [
    "# II. Comprehensions."
   ],
   "metadata": {
    "id": "wPCXJv4354cU"
   }
  },
  {
   "cell_type": "markdown",
   "source": [
    "4. (5б) Створіть список, використовуючи if (не if-else), range та comprehension."
   ],
   "metadata": {
    "id": "jULLW5jN55Pw"
   }
  },
  {
   "cell_type": "code",
   "source": [
    "my_list = [i for i in range(-25, 26) if i % 5 == 0]\n",
    "print(my_list)\n"
   ],
   "metadata": {
    "id": "mlZalnVC6W3F",
    "colab": {
     "base_uri": "https://localhost:8080/"
    },
    "outputId": "f352ae59-83ff-46d0-cb6f-c4a1955309d3"
   },
   "execution_count": 4,
   "outputs": [
    {
     "output_type": "stream",
     "name": "stdout",
     "text": [
      "[-25, -20, -15, -10, -5, 0, 5, 10, 15, 20, 25]\n"
     ]
    }
   ]
  },
  {
   "cell_type": "markdown",
   "source": [
    "5. (9б) Створіть словник, використовуючи dict comprehension, що містить if else. Коли слід використовувати comprehensions, а коли їх слід уникати?"
   ],
   "metadata": {
    "id": "LqhEQ4JW6XcC"
   }
  },
  {
   "cell_type": "code",
   "source": [
    "my_dict = {i : 0 if i % 3 == 0 else i**2 for i in range(1, 10)}\n",
    "print(my_dict)\n"
   ],
   "metadata": {
    "id": "1yVaFbOs6hta",
    "colab": {
     "base_uri": "https://localhost:8080/"
    },
    "outputId": "8b626542-451b-428e-87a4-b34cd4693459"
   },
   "execution_count": 5,
   "outputs": [
    {
     "output_type": "stream",
     "name": "stdout",
     "text": [
      "{1: 1, 2: 4, 3: 0, 4: 16, 5: 25, 6: 0, 7: 49, 8: 64, 9: 0}\n"
     ]
    }
   ]
  },
  {
   "cell_type": "markdown",
   "source": [
    "*   Comprehensions слід використовувати для простих та інтуїтивно зрозумілих операцій. Зазвичай їх використовують у створенні структур даних. Натомість коли логіка стає занадто важкою, варто використати звичайні цикли для чистоти та читабельності коду."
   ],
   "metadata": {
    "id": "wbkzNhKq6hzz"
   }
  },
  {
   "cell_type": "markdown",
   "source": [
    "6. (9б) Створіть список з рядками та запишіть його у змінну. Створіть ще один список на основі попереднього, де кожен рядок буде містити тільки три перших заглавних символи. Наприклад: ['hello', 'i', 'dont', 'care'] -> ['HEL', 'I', 'DON', 'CAR']. Використання comprehensions обовʼязкове."
   ],
   "metadata": {
    "id": "ZlqB8G3G6lHP"
   }
  },
  {
   "cell_type": "code",
   "source": [
    "words = [\"hi\", \"here\", \"is\", \"list\", \"of\", \"some\", \"words\"]\n",
    "new_words = [word[0:3].upper() for word in words]\n",
    "print(new_words)\n"
   ],
   "metadata": {
    "id": "nw6rz0bR60VC",
    "colab": {
     "base_uri": "https://localhost:8080/"
    },
    "outputId": "6a3018c2-701a-4a7f-9057-aaa571b7c065"
   },
   "execution_count": 6,
   "outputs": [
    {
     "output_type": "stream",
     "name": "stdout",
     "text": [
      "['HI', 'HER', 'IS', 'LIS', 'OF', 'SOM', 'WOR']\n"
     ]
    }
   ]
  },
  {
   "cell_type": "markdown",
   "source": [
    "# III. Цикли."
   ],
   "metadata": {
    "id": "Tj573IAH64Fz"
   }
  },
  {
   "cell_type": "markdown",
   "source": [
    "7. (5б) Продемонструйте роботу циклу while. Не можна використовувати True для запуску циклу, щоб уникнути безкінечного циклу!"
   ],
   "metadata": {
    "id": "tN_33xdE65H5"
   }
  },
  {
   "cell_type": "code",
   "source": [
    "condition = True\n",
    "count = 0\n",
    "while condition:\n",
    "  print(count)\n",
    "  count+=1\n",
    "  if count == 10:\n",
    "    condition = False\n"
   ],
   "metadata": {
    "id": "Kd9FO6yG63P5",
    "colab": {
     "base_uri": "https://localhost:8080/"
    },
    "outputId": "e3791a17-2281-4e33-e6ed-19003f21de89"
   },
   "execution_count": 7,
   "outputs": [
    {
     "output_type": "stream",
     "name": "stdout",
     "text": [
      "0\n",
      "1\n",
      "2\n",
      "3\n",
      "4\n",
      "5\n",
      "6\n",
      "7\n",
      "8\n",
      "9\n"
     ]
    }
   ]
  },
  {
   "cell_type": "markdown",
   "source": [
    "8. (5б) Напишіть програму, яка виведе на екран непарні числа в діапазоні від 0 до 20 включно."
   ],
   "metadata": {
    "id": "x2CmfZO-7pW0"
   }
  },
  {
   "cell_type": "code",
   "source": [
    "for i in range(0, 21):\n",
    "  if i % 2 != 0:\n",
    "    print(i)\n"
   ],
   "metadata": {
    "id": "aCSRYA6s7tkF",
    "colab": {
     "base_uri": "https://localhost:8080/"
    },
    "outputId": "2bc24f6d-a46a-408d-d25c-ef3b62b64b18"
   },
   "execution_count": 8,
   "outputs": [
    {
     "output_type": "stream",
     "name": "stdout",
     "text": [
      "1\n",
      "3\n",
      "5\n",
      "7\n",
      "9\n",
      "11\n",
      "13\n",
      "15\n",
      "17\n",
      "19\n"
     ]
    }
   ]
  },
  {
   "cell_type": "markdown",
   "source": [
    "9. (13б) Створіть список з елементами булевого типу або None. Використовуючи цикли, отримайте в результаті список з кортежами, де перший елемент кортежу - індекс(ціле число), а другий елемент - відповідне значення з першого списку.\n",
    "\n",
    "Наприклад, [True, True, None, False] -> [(0, True), (1, True), (2, None), (3, False)]"
   ],
   "metadata": {
    "id": "MDWNocZD7t_B"
   }
  },
  {
   "cell_type": "code",
   "source": [
    "bool_list = [True, True, False, None, False, None]\n",
    "result_list = []\n",
    "for i, condition in enumerate(bool_list):\n",
    "  result_list.append((i, condition,))\n",
    "print(result_list)\n"
   ],
   "metadata": {
    "id": "0EUyjMdp7yfh",
    "colab": {
     "base_uri": "https://localhost:8080/"
    },
    "outputId": "6c2d77f1-a8dc-46f2-a1ae-4aa77e2b5160"
   },
   "execution_count": 9,
   "outputs": [
    {
     "output_type": "stream",
     "name": "stdout",
     "text": [
      "[(0, True), (1, True), (2, False), (3, None), (4, False), (5, None)]\n"
     ]
    }
   ]
  },
  {
   "cell_type": "markdown",
   "source": [
    "10. (9б) Створіть словник, де ключі - назви книжок, а значення - їхня кількість у наявності в Вашій міні-бібліотеці. Бібліотека має містити щонайменше 6 книжок (6 пар значень у словнику) і щонайбільше 10 (пар значень). Використовуючи цикли, оновіть словник (не створюйте новий) так, щоби кількість книг у наявності збільшилося на 5 кожної книги. Наприклад,\n",
    "{'It': 3, 'Fault stars': 10, 'Bible': 17, 'Psychological romance': 4, 'Harry Potter': 13} -> {'It': 8, 'Fault stars': 15, 'Bible': 22, 'Psychological romance': 9, 'Harry Potter': 18}"
   ],
   "metadata": {
    "id": "-6XUqlcG7zKs"
   }
  },
  {
   "cell_type": "code",
   "source": [
    "library_dict = {\"Harry Potter\" : 9,\n",
    "                \"Clean Code\" : 2,\n",
    "                \"The Witcher: Blood of Elves\" : 5,\n",
    "                \"13 Reasons Why\" : 13,\n",
    "                \"Bible\" : 7,\n",
    "                \"За Перекопом є земля\" : 1,\n",
    "                \"Об'єктно-орієнтоване програмування\" : 3}\n",
    "for book in library_dict:\n",
    "  library_dict[book] += 5\n",
    "print(library_dict)\n"
   ],
   "metadata": {
    "id": "Ceoj9wwb791q",
    "colab": {
     "base_uri": "https://localhost:8080/"
    },
    "outputId": "c30fe35f-d010-420d-cbb0-0d3de3eb0364"
   },
   "execution_count": 10,
   "outputs": [
    {
     "output_type": "stream",
     "name": "stdout",
     "text": [
      "{'Harry Potter': 14, 'Clean Code': 7, 'The Witcher: Blood of Elves': 10, '13 Reasons Why': 18, 'Bible': 12, 'За Перекопом є земля': 6, \"Об'єктно-орієнтоване програмування\": 8}\n"
     ]
    }
   ]
  },
  {
   "cell_type": "markdown",
   "source": [
    "11. (5б) Визначте цілочислену змінну n, що належить проміжку від 4 до 10 включно. Використовуючи цикли, виведіть в консоль наступний патерн.\n",
    "\n",
    "#\n",
    "##\n",
    "###\n",
    "####\n",
    "\n",
    "... #*n\n"
   ],
   "metadata": {
    "id": "QLzyJM288AC7"
   }
  },
  {
   "cell_type": "code",
   "source": [
    "n = 7\n",
    "for i in range(1, n + 1):\n",
    "  print(\"#\" * i)"
   ],
   "metadata": {
    "id": "KOpng87s8Duz",
    "colab": {
     "base_uri": "https://localhost:8080/"
    },
    "outputId": "cb124bf8-204a-48c7-e3fe-293013ffe002"
   },
   "execution_count": 11,
   "outputs": [
    {
     "output_type": "stream",
     "name": "stdout",
     "text": [
      "#\n",
      "##\n",
      "###\n",
      "####\n",
      "#####\n",
      "######\n",
      "#######\n"
     ]
    }
   ]
  },
  {
   "cell_type": "markdown",
   "source": [
    "12. (13б) Гра \"Нумо вгадай\".\n",
    "Розробіть просту гру, де користувач має вгадати випадкове число від 1 до 100. Для генерації випадкового числа використовуйте функцію random.randint(a, b) (тут a та b включно). Для отримання числа з консолі використовуйте функцію input(), результат якої обовʼязково явно приведіть до типу int.\n",
    "\n",
    "Підказка: використовуйте цикл while та умови if-else, щоб повідомити користувачу піказки (напр. \"Більше\", \"Менше\") поки користувач не вгадає. По завершенню виведіть кількість спроб, які знадобилися для вгадування."
   ],
   "metadata": {
    "id": "_bd-bqAT8EHn"
   }
  },
  {
   "cell_type": "code",
   "source": [
    "import random\n",
    "\n",
    "attempts = 1\n",
    "number = random.randint(1, 100)\n",
    "guess = int(input(\"Guess the number in range [1, 100]: \"))\n",
    "is_playing = True\n",
    "while is_playing:\n",
    "  if guess == number:\n",
    "    print(f\"You guessed the number in {attempts} attempt(s)\")\n",
    "    is_playing = False\n",
    "  elif guess < number:\n",
    "    guess = int(input(\"Try a bigger number: \"))\n",
    "    attempts+=1\n",
    "  else:\n",
    "    guess = int(input(\"Try a lower number: \"))\n",
    "    attempts+=1\n"
   ],
   "metadata": {
    "id": "IK9nnxFK8Hkl",
    "colab": {
     "base_uri": "https://localhost:8080/"
    },
    "outputId": "d62f93c2-8f0c-440d-ba02-2654959da723"
   },
   "execution_count": 12,
   "outputs": [
    {
     "output_type": "stream",
     "name": "stdout",
     "text": [
      "Guess the number in range [1, 100]: 50\n",
      "Try a bigger number: 75\n",
      "Try a lower number: 60\n",
      "Try a bigger number: 65\n",
      "Try a lower number: 63\n",
      "Try a lower number: 62\n",
      "You guessed the number in 6 attempt(s)\n"
     ]
    }
   ]
  },
  {
   "cell_type": "markdown",
   "source": [
    "# Вітаю! Ви велика(ий) молодець, що впоралась(вся). Похваліть себе та побалуйте чимось приємним. Я Вами пишаюся."
   ],
   "metadata": {
    "id": "PXoXWb7Z8IGi"
   }
  }
 ]
}
